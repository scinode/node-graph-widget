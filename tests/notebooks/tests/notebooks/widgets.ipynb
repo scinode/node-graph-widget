{
 "cells": [
  {
   "cell_type": "code",
   "execution_count": null,
   "metadata": {},
   "outputs": [],
   "source": [
    "import warnings\n",
    "from node_graph_widget import NodeGraphWidget\n",
    "\n",
    "warnings.filterwarnings('ignore')\n",
    "\n",
    "nodegraph_data = {'name': 'example',\n",
    " 'uuid': '17ae596a-b179-11ef-a97d-906584de3e5b',\n",
    " 'state': 'CREATED',\n",
    " 'nodes': {'test_float1': {'label': 'test_float1',\n",
    "   'node_type': 'NORMAL',\n",
    "   'inputs': [],\n",
    "   'properties': {},\n",
    "   'outputs': [{'name': 'float'}],\n",
    "   'position': [30, 30],\n",
    "   'children': []},\n",
    "  'test_float2': {'label': 'test_float2',\n",
    "   'node_type': 'NORMAL',\n",
    "   'inputs': [],\n",
    "   'properties': {},\n",
    "   'outputs': [{'name': 'float'}],\n",
    "   'position': [60, 60],\n",
    "   'children': []},\n",
    "  'test_add3': {'label': 'test_add3',\n",
    "   'node_type': 'NORMAL',\n",
    "   'inputs': [{'name': 'x'}, {'name': 'y'}],\n",
    "   'properties': {},\n",
    "   'outputs': [],\n",
    "   'position': [90, 90],\n",
    "   'children': []}},\n",
    " 'links': [{'from_socket': 'float',\n",
    "   'from_node': 'test_float1',\n",
    "   'to_socket': 'x',\n",
    "   'to_node': 'test_add3',\n",
    "   'state': False},\n",
    "  {'from_socket': 'float',\n",
    "   'from_node': 'test_float2',\n",
    "   'to_socket': 'y',\n",
    "   'to_node': 'test_add3',\n",
    "   'state': False}]}\n",
    "\n",
    "v = NodeGraphWidget()\n",
    "v.value = nodegraph_data\n",
    "v"
   ]
  }
 ],
 "metadata": {
  "kernelspec": {
   "display_name": "aiida",
   "language": "python",
   "name": "python3"
  },
  "language_info": {
   "codemirror_mode": {
    "name": "ipython",
    "version": 3
   },
   "file_extension": ".py",
   "mimetype": "text/x-python",
   "name": "python",
   "nbconvert_exporter": "python",
   "pygments_lexer": "ipython3",
   "version": "3.11.0"
  }
 },
 "nbformat": 4,
 "nbformat_minor": 4
}
